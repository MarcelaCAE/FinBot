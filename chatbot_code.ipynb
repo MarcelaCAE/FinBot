{
 "cells": [
  {
   "cell_type": "markdown",
   "id": "1ec3255c",
   "metadata": {},
   "source": [
    "<h3 style=\"color: #000000; font-weight: bold;\"> Gen AI Project: Building a Finantial Bot </h3>"
   ]
  },
  {
   "cell_type": "markdown",
   "id": "976e7cf7",
   "metadata": {},
   "source": [
    "##### **Goal of the Project** : The objective of the project is to deploy a chatbot capable of providing financial advice based on the book **_Rich Dad Poor Dad_** by **Robert T. Kiyosaki**.\n"
   ]
  },
  {
   "cell_type": "code",
   "execution_count": 1,
   "id": "bea0d65a",
   "metadata": {},
   "outputs": [],
   "source": [
    "# importing the libraries\n",
    "\n",
    "import os\n",
    "from langchain.document_loaders import PyPDFLoader\n",
    "from langchain.text_splitter import CharacterTextSplitter\n",
    "from langchain_openai import OpenAIEmbeddings\n",
    "from dotenv import load_dotenv\n",
    "from langchain.vectorstores import Chroma\n",
    "from chromadb.config import Settings\n",
    "import chromadb\n",
    "import openai"
   ]
  },
  {
   "cell_type": "markdown",
   "id": "a8a027c7",
   "metadata": {},
   "source": [
    "<h3 style=\"color: #000000; font-weight: bold;\"> ETL </h3>"
   ]
  },
  {
   "cell_type": "code",
   "execution_count": 5,
   "id": "efbbdc6c",
   "metadata": {},
   "outputs": [
    {
     "name": "stdout",
     "output_type": "stream",
     "text": [
      "Total chunks from all PDFs: 685\n",
      "Total pages from all PDFs: 685\n"
     ]
    }
   ],
   "source": [
    "import os\n",
    "from langchain.document_loaders import PyPDFLoader\n",
    "from langchain.text_splitter import CharacterTextSplitter\n",
    "\n",
    "\n",
    "document_dir = \"./pdfs\"\n",
    "pdf_files = [f for f in os.listdir(document_dir) if f.endswith(\".pdf\")]\n",
    "all_chunks = []\n",
    "total_pages = 0\n",
    "\n",
    "for filename in pdf_files:\n",
    "    file_path = os.path.join(document_dir, filename)\n",
    "    loader = PyPDFLoader(file_path)\n",
    "    pages = loader.load_and_split()\n",
    "    total_pages += len(pages)\n",
    "    \n",
    "    text_splitter = CharacterTextSplitter(chunk_size=10000, chunk_overlap=0)\n",
    "    chunks = text_splitter.split_documents(pages)\n",
    "    \n",
    "    all_chunks.extend(chunks)\n",
    "\n",
    "print(f\"Total chunks from all PDFs: {len(all_chunks)}\")\n",
    "print(f\"Total pages from all PDFs: {total_pages}\")\n"
   ]
  },
  {
   "cell_type": "code",
   "execution_count": 6,
   "id": "1910a7f5",
   "metadata": {},
   "outputs": [
    {
     "name": "stdout",
     "output_type": "stream",
     "text": [
      "O Homem Mais Rico da Babilônia.pdf have 98 pages.\n",
      "O INVESTIDOR INTELIGENTE - BENJAMIN GRAHAM.pdf have 587 pages.\n"
     ]
    }
   ],
   "source": [
    "# checking the content of the PDFs Files/Pages\n",
    "for filename in pdf_files:\n",
    "    file_path = os.path.join(document_dir, filename)\n",
    "    \n",
    "    loader = PyPDFLoader(file_path)\n",
    "    pages = loader.load_and_split()\n",
    "    \n",
    "    print(f\"{filename} have {len(pages)} pages.\")\n"
   ]
  },
  {
   "cell_type": "markdown",
   "id": "3fb9c38b-2a4a-49c3-9feb-2280a1038dc9",
   "metadata": {},
   "source": [
    "# PDF location for retrieving the data\n",
    "document_dir = \"./\"\n",
    "filename = \"Rich Dad Poor Dad.pdf\"\n",
    "file_path = os.path.join(document_dir, filename)"
   ]
  },
  {
   "cell_type": "code",
   "execution_count": 4,
   "id": "48738340",
   "metadata": {},
   "outputs": [
    {
     "data": {
      "text/plain": [
       "True"
      ]
     },
     "execution_count": 4,
     "metadata": {},
     "output_type": "execute_result"
    }
   ],
   "source": [
    "# terminal: echo OPENAI_API_KEY=\"\" > .env\n",
    "\n",
    "load_dotenv()"
   ]
  },
  {
   "cell_type": "code",
   "execution_count": 5,
   "id": "7040d1cf-3b5a-4698-b50f-27ceb557a25c",
   "metadata": {},
   "outputs": [],
   "source": [
    "load_dotenv()\n",
    "# api_key = os.getenv(\"OPENAI_API_KEY\")\n",
    "embeddings = OpenAIEmbeddings(model=\"text-embedding-3-large\")\n",
    "api_key =\"\""
   ]
  },
  {
   "cell_type": "code",
   "execution_count": 6,
   "id": "6fa1f166-a4b9-4d09-9c50-ee6c6eddf3c6",
   "metadata": {},
   "outputs": [],
   "source": [
    "client = chromadb.PersistentClient(path=\"./chroma_db\") # initializes the new environment , what kind of client"
   ]
  },
  {
   "cell_type": "code",
   "execution_count": 7,
   "id": "457122d7-e448-43e0-aba5-2a0c6999c91b",
   "metadata": {},
   "outputs": [],
   "source": [
    "db = Chroma.from_documents(chunks, embeddings, persist_directory=\"./chroma_db\", client=client)"
   ]
  },
  {
   "cell_type": "markdown",
   "id": "49e9842e",
   "metadata": {},
   "source": [
    "<h3 style=\"color: #000000; font-weight: bold;\"> System Architecture </h3>"
   ]
  },
  {
   "cell_type": "code",
   "execution_count": 8,
   "id": "d59ab266-d376-4574-bff1-dfaf2c9f857e",
   "metadata": {},
   "outputs": [],
   "source": [
    "user_question = \"O que devo fazer se eu quero começar investir?\" # User question stored in a variable\n",
    "retrieved_docs = db.similarity_search(user_question, k=5) # k is the number of documents to retrieve the context"
   ]
  },
  {
   "cell_type": "code",
   "execution_count": 9,
   "id": "a80fca4e-4faa-4288-97b2-403c6d4732aa",
   "metadata": {},
   "outputs": [
    {
     "name": "stdout",
     "output_type": "stream",
     "text": [
      "Document 1:\n",
      "timento mensal de US$50, mas se esse é\n",
      "todo o dinheiro que você dispõe para gastar, então essas páginas de investimento\n",
      "micro são a única maneira de construir uma carteira diversificada.\n",
      "Você também pode comprar ações individuais diretamente das companhias\n",
      "emitentes. Em 1994, o Securities and Exchange Commission afrouxou as\n",
      "algemas há muito colocadas na venda direta de ações ao público. Centenas de\n",
      "companhias responderam a essa mudança com a criação de programas na\n",
      "internet que permitem aos investidores comprar ações sem passar por um\n",
      "corretor. Algumas fontes de informação on-line grau de investimento sobre a\n",
      "compra direta de ações incluem a www.dripcentral.com, www.netstockdirect.\n",
      "com (uma afiliada da Sharebuilder) e a www.stockpower.com. Com freqüência,\n",
      "é necessário pagar diversas taxas incômodas que podem exceder US$25 ao ano.\n",
      "Mesmo assim, os programas de compra direta de ações são, em geral, mais\n",
      "baratos do que os corretores.\n",
      "Fique avisado, no en\n"
     ]
    }
   ],
   "source": [
    "# Display top results\n",
    "for i, doc in enumerate(retrieved_docs[:1]): # Display top 3 results\n",
    "    print(f\"Document {i+1}:\\n{doc.page_content[36:1000]}\") # Display content "
   ]
  },
  {
   "cell_type": "markdown",
   "id": "8015252d",
   "metadata": {},
   "source": [
    "<h3 style=\"color: #000000; font-weight: bold;\"> Deployment & System Integration </h3>"
   ]
  },
  {
   "cell_type": "code",
   "execution_count": 10,
   "id": "cb4bfbde-329c-4711-b54e-31505d6cbd6f",
   "metadata": {},
   "outputs": [],
   "source": [
    "def _get_document_prompt(docs):\n",
    "    prompt = \"\\n\"\n",
    "    for doc in docs:\n",
    "        prompt += \"\\nContent:\\n\"\n",
    "        prompt += doc.page_content + \"\\n\\n\"\n",
    "    return prompt"
   ]
  },
  {
   "cell_type": "code",
   "execution_count": 11,
   "id": "8f76fd71-a2ea-4f4c-8504-8a433377782d",
   "metadata": {},
   "outputs": [
    {
     "name": "stdout",
     "output_type": "stream",
     "text": [
      "Context formatted for GPT model.\n",
      "\n",
      "Content:\n",
      "mordida monstruosa de 8% em um investimento mensal de US$50, mas se esse é\n",
      "todo o dinheiro que você dispõe para gastar, então essas páginas de investimento\n",
      "micro são a única maneira de construir uma carteira diversificada.\n",
      "Você também pode comprar ações individuais diretamente das companhias\n",
      "emitentes. Em 1994, o Securities and Exchange Commission afrouxou as\n",
      "algemas há muito colocadas na venda direta de ações ao público. Centenas de\n",
      "companhias responderam a essa mudança com a criação de programas na\n",
      "internet que permitem aos investidores comprar ações sem passar por um\n",
      "corretor. Algumas fontes de informação on-line grau de investimento sobre a\n",
      "compra direta de ações incluem a www.dripcentral.com, www.netstockdirect.\n",
      "com (uma afiliada da Sharebuilder) e a www.stockpower.com. Com freqüência,\n",
      "é necessário pagar diversas taxas incômodas que podem exceder US$25 ao ano.\n",
      "Mesmo assim, os programas de compra direta de ações são, em geral, mais\n",
      "baratos do que os corretores.\n",
      "Fique avisado, no entanto, que comprar ações em incrementos mínimos por anos\n",
      "a fio pode desencadear grandes dores de cabeça por causa dos impostos. Se você\n",
      "não está preparado para manter um registro permanente e exaustivamente\n",
      "detalhado de suas aquisições, é melhor nem começar a comprar. Finalmente,\n",
      "não invista em somente uma ação ou mesmo em apenas um punhado de ações\n",
      "diferentes. A menos que você não esteja disposto a dividir suas apostas, não\n",
      "deveria apostar de forma alguma. A diretriz de Graham que recomenda a posse\n",
      "de dez a trinta ações diferentes permanece sendo um bom ponto de partida para\n",
      "os investidores que desejam selecionar suas próprias ações, mas você deve se\n",
      "certificar de que não ficará demasiadamente exposto a um único setor.\n",
      "6\n",
      " (Para\n",
      "saber mais sobre como escolher as ações individuais que comporão sua carteira,\n",
      "ver p. 1 39-140 e capítulos 11, 14 e 15.)\n",
      "Se, após ter estabelecido tal carteira on-line em regime de piloto automático,\n",
      "você se encontrar negociando mais do que duas vezes ao ano ou gastando mais\n",
      "de uma ou duas horas por mês, no total, em seus investimentos, então algo está\n",
      "muito errado. Não permita que a facilidade e a atualização instantânea da\n",
      "internet o seduzam a se tornar um especulador. O investidor defensivo participa\n",
      "da corrida — e ganha — sentado.\n",
      "Peça ajuda.\n",
      " O investidor defensivo também pode possuir ações por meio de uma\n",
      "corretora de desconto, um consultor financeiro ou uma corretora com serviços\n",
      "completos. Em uma corretora de desconto, você precisará fazer sozinho a maior\n",
      "parte do trabalho de escolha de ações; as diretrizes de Graham o ajudarão a criar\n",
      "uma carteira básica que exigirá manutenção mínima e oferecerá uma\n",
      "probabilidade alta de um retorno estável. Por outro lado, se você não pode gastar\n",
      "\n",
      "\n",
      "Content:\n",
      "mordida monstruosa de 8% em um investimento mensal de US$50, mas se esse é\n",
      "todo o dinheiro que você dispõe para gastar, então essas páginas de investimento\n",
      "micro são a única maneira de construir uma carteira diversificada.\n",
      "Você também pode comprar ações individuais diretamente das companhias\n",
      "emitentes. Em 1994, o Securities and Exchange Commission afrouxou as\n",
      "algemas há muito colocadas na venda direta de ações ao público. Centenas de\n",
      "companhias responderam a essa mudança com a criação de programas na\n",
      "internet que permitem aos investidores comprar ações sem passar por um\n",
      "corretor. Algumas fontes de informação on-line grau de investimento sobre a\n",
      "compra direta de ações incluem a www.dripcentral.com, www.netstockdirect.\n",
      "com (uma afiliada da Sharebuilder) e a www.stockpower.com. Com freqüência,\n",
      "é necessário pagar diversas taxas incômodas que podem exceder US$25 ao ano.\n",
      "Mesmo assim, os programas de compra direta de ações são, em geral, mais\n",
      "baratos do que os corretores.\n",
      "Fique avisado, no entanto, que comprar ações em incrementos mínimos por anos\n",
      "a fio pode desencadear grandes dores de cabeça por causa dos impostos. Se você\n",
      "não está preparado para manter um registro permanente e exaustivamente\n",
      "detalhado de suas aquisições, é melhor nem começar a comprar. Finalmente,\n",
      "não invista em somente uma ação ou mesmo em apenas um punhado de ações\n",
      "diferentes. A menos que você não esteja disposto a dividir suas apostas, não\n",
      "deveria apostar de forma alguma. A diretriz de Graham que recomenda a posse\n",
      "de dez a trinta ações diferentes permanece sendo um bom ponto de partida para\n",
      "os investidores que desejam selecionar suas próprias ações, mas você deve se\n",
      "certificar de que não ficará demasiadamente exposto a um único setor.\n",
      "6\n",
      " (Para\n",
      "saber mais sobre como escolher as ações individuais que comporão sua carteira,\n",
      "ver p. 1 39-140 e capítulos 11, 14 e 15.)\n",
      "Se, após ter estabelecido tal carteira on-line em regime de piloto automático,\n",
      "você se encontrar negociando mais do que duas vezes ao ano ou gastando mais\n",
      "de uma ou duas horas por mês, no total, em seus investimentos, então algo está\n",
      "muito errado. Não permita que a facilidade e a atualização instantânea da\n",
      "internet o seduzam a se tornar um especulador. O investidor defensivo participa\n",
      "da corrida — e ganha — sentado.\n",
      "Peça ajuda.\n",
      " O investidor defensivo também pode possuir ações por meio de uma\n",
      "corretora de desconto, um consultor financeiro ou uma corretora com serviços\n",
      "completos. Em uma corretora de desconto, você precisará fazer sozinho a maior\n",
      "parte do trabalho de escolha de ações; as diretrizes de Graham o ajudarão a criar\n",
      "uma carteira básica que exigirá manutenção mínima e oferecerá uma\n",
      "probabilidade alta de um retorno estável. Por outro lado, se você não pode gastar\n",
      "\n",
      "\n",
      "Content:\n",
      "mordida monstruosa de 8% em um investimento mensal de US$50, mas se esse é\n",
      "todo o dinheiro que você dispõe para gastar, então essas páginas de investimento\n",
      "micro são a única maneira de construir uma carteira diversificada.\n",
      "Você também pode comprar ações individuais diretamente das companhias\n",
      "emitentes. Em 1994, o Securities and Exchange Commission afrouxou as\n",
      "algemas há muito colocadas na venda direta de ações ao público. Centenas de\n",
      "companhias responderam a essa mudança com a criação de programas na\n",
      "internet que permitem aos investidores comprar ações sem passar por um\n",
      "corretor. Algumas fontes de informação on-line grau de investimento sobre a\n",
      "compra direta de ações incluem a www.dripcentral.com, www.netstockdirect.\n",
      "com (uma afiliada da Sharebuilder) e a www.stockpower.com. Com freqüência,\n",
      "é necessário pagar diversas taxas incômodas que podem exceder US$25 ao ano.\n",
      "Mesmo assim, os programas de compra direta de ações são, em geral, mais\n",
      "baratos do que os corretores.\n",
      "Fique avisado, no entanto, que comprar ações em incrementos mínimos por anos\n",
      "a fio pode desencadear grandes dores de cabeça por causa dos impostos. Se você\n",
      "não está preparado para manter um registro permanente e exaustivamente\n",
      "detalhado de suas aquisições, é melhor nem começar a comprar. Finalmente,\n",
      "não invista em somente uma ação ou mesmo em apenas um punhado de ações\n",
      "diferentes. A menos que você não esteja disposto a dividir suas apostas, não\n",
      "deveria apostar de forma alguma. A diretriz de Graham que recomenda a posse\n",
      "de dez a trinta ações diferentes permanece sendo um bom ponto de partida para\n",
      "os investidores que desejam selecionar suas próprias ações, mas você deve se\n",
      "certificar de que não ficará demasiadamente exposto a um único setor.\n",
      "6\n",
      " (Para\n",
      "saber mais sobre como escolher as ações individuais que comporão sua carteira,\n",
      "ver p. 1 39-140 e capítulos 11, 14 e 15.)\n",
      "Se, após ter estabelecido tal carteira on-line em regime de piloto automático,\n",
      "você se encontrar negociando mais do que duas vezes ao ano ou gastando mais\n",
      "de uma ou duas horas por mês, no total, em seus investimentos, então algo está\n",
      "muito errado. Não permita que a facilidade e a atualização instantânea da\n",
      "internet o seduzam a se tornar um especulador. O investidor defensivo participa\n",
      "da corrida — e ganha — sentado.\n",
      "Peça ajuda.\n",
      " O investidor defensivo também pode possuir ações por meio de uma\n",
      "corretora de desconto, um consultor financeiro ou uma corretora com serviços\n",
      "completos. Em uma corretora de desconto, você precisará fazer sozinho a maior\n",
      "parte do trabalho de escolha de ações; as diretrizes de Graham o ajudarão a criar\n",
      "uma carteira básica que exigirá manutenção mínima e oferecerá uma\n",
      "probabilidade alta de um retorno estável. Por outro lado, se você não pode gastar\n",
      "\n",
      "\n",
      "Content:\n",
      "• Os investidores individuais possuem três vezes mais ações na companhia\n",
      "telefônica local do que em todas as outras companhias telefônicas juntas;\n",
      "• O fundo mútuo típico possui ações cuja sede está 230km mais perto do\n",
      "escritório central do fundo do que a sede da média das companhias americanas;\n",
      "• Os investidores em contas 401 (k) aplicam 25% a 30% de suas economias de\n",
      "aposentadoria em ações da própria companhia.\n",
      "4\n",
      "Em resumo, familiaridade gera acomodação. No noticiário da TV, é sempre o\n",
      "vizinho, melhor amigo ou pai do criminoso que diz, com voz chocada: \"Mas ele\n",
      "era um cara tão legal.\" Isso acontece porque sempre que estamos perto demais\n",
      "de alguém ou de algo, confiamos em nossas crenças, em vez de questioná-las,\n",
      "como fazemos quando confrontamos algo mais remoto. Quanto mais familiar\n",
      "uma ação, mais provável será ela transformar um investidor defensivo em um\n",
      "preguiçoso que pensa não haver necessidade de fazer nenhum dever de casa.\n",
      "Não deixe que isso aconteça com você.\n",
      "É POSSÍVEL FAZER TUDO SOZINHO?\n",
      "Felizmente, para o investidor defensivo disposto a fazer o dever de casa\n",
      "necessário para montar uma carteira de ações, essa é a Era Dourada: nunca\n",
      "antes na história das finanças possuir ações foi tão barato e conveniente.\n",
      "5\n",
      "Faça você mesmo\n",
      ". Por meio de corretoras on-line especializadas, como\n",
      "www.sharebuilder.com, www.foliofn.com e www.buyandhold.com, você pode\n",
      "comprar ações automaticamente, mesmo que tenha pouco dinheiro para gastar.\n",
      "Esses sites cobram pequenas quantias, como US$4, por cada compra periódica\n",
      "de qualquer uma das centenas de ações americanas que disponibilizam. Você\n",
      "pode investir toda semana ou todo mês, reinvestir os dividendos e até mesmo\n",
      "pingar seu dinheiro em ações por meio de transferências eletrônicas a partir de\n",
      "sua conta bancária ou débito direto em contracheque. A Sharebuilder cobra mais\n",
      "para vender do que para comprar, lembrando a você — de forma gentil, porém\n",
      "firme — que a venda rápida é um erro na área de investimentos, enquanto a\n",
      "FolioFN oferece um excelente instrumento para o cálculo de impostos.\n",
      "Ao contrário dos corretores tradicionais ou dos fundos mútuos que não o deixarão\n",
      "passar da porta de entrada se não tiver pelo menos US$2.000 ou US$3.000, essas\n",
      "firmas on-line não exigem saldo mínimo em conta e são fatiadas para\n",
      "investidores iniciantes que desejam estabelecer carteiras novas em regime de\n",
      "piloto automático. É verdade que uma taxa de transação de US$4 representa uma\n",
      "\n",
      "\n",
      "Content:\n",
      "• Os investidores individuais possuem três vezes mais ações na companhia\n",
      "telefônica local do que em todas as outras companhias telefônicas juntas;\n",
      "• O fundo mútuo típico possui ações cuja sede está 230km mais perto do\n",
      "escritório central do fundo do que a sede da média das companhias americanas;\n",
      "• Os investidores em contas 401 (k) aplicam 25% a 30% de suas economias de\n",
      "aposentadoria em ações da própria companhia.\n",
      "4\n",
      "Em resumo, familiaridade gera acomodação. No noticiário da TV, é sempre o\n",
      "vizinho, melhor amigo ou pai do criminoso que diz, com voz chocada: \"Mas ele\n",
      "era um cara tão legal.\" Isso acontece porque sempre que estamos perto demais\n",
      "de alguém ou de algo, confiamos em nossas crenças, em vez de questioná-las,\n",
      "como fazemos quando confrontamos algo mais remoto. Quanto mais familiar\n",
      "uma ação, mais provável será ela transformar um investidor defensivo em um\n",
      "preguiçoso que pensa não haver necessidade de fazer nenhum dever de casa.\n",
      "Não deixe que isso aconteça com você.\n",
      "É POSSÍVEL FAZER TUDO SOZINHO?\n",
      "Felizmente, para o investidor defensivo disposto a fazer o dever de casa\n",
      "necessário para montar uma carteira de ações, essa é a Era Dourada: nunca\n",
      "antes na história das finanças possuir ações foi tão barato e conveniente.\n",
      "5\n",
      "Faça você mesmo\n",
      ". Por meio de corretoras on-line especializadas, como\n",
      "www.sharebuilder.com, www.foliofn.com e www.buyandhold.com, você pode\n",
      "comprar ações automaticamente, mesmo que tenha pouco dinheiro para gastar.\n",
      "Esses sites cobram pequenas quantias, como US$4, por cada compra periódica\n",
      "de qualquer uma das centenas de ações americanas que disponibilizam. Você\n",
      "pode investir toda semana ou todo mês, reinvestir os dividendos e até mesmo\n",
      "pingar seu dinheiro em ações por meio de transferências eletrônicas a partir de\n",
      "sua conta bancária ou débito direto em contracheque. A Sharebuilder cobra mais\n",
      "para vender do que para comprar, lembrando a você — de forma gentil, porém\n",
      "firme — que a venda rápida é um erro na área de investimentos, enquanto a\n",
      "FolioFN oferece um excelente instrumento para o cálculo de impostos.\n",
      "Ao contrário dos corretores tradicionais ou dos fundos mútuos que não o deixarão\n",
      "passar da porta de entrada se não tiver pelo menos US$2.000 ou US$3.000, essas\n",
      "firmas on-line não exigem saldo mínimo em conta e são fatiadas para\n",
      "investidores iniciantes que desejam estabelecer carteiras novas em regime de\n",
      "piloto automático. É verdade que uma taxa de transação de US$4 representa uma\n",
      "\n",
      "\n"
     ]
    }
   ],
   "source": [
    "# Generate a formatted context from the retrieved documents\n",
    "formatted_context = _get_document_prompt(retrieved_docs)\n",
    "print(\"Context formatted for GPT model.{}\".format(formatted_context))"
   ]
  },
  {
   "cell_type": "markdown",
   "id": "248fbe09",
   "metadata": {},
   "source": [
    "<h3 style=\"color: #000000; font-weight: bold;\"> NLP & Promp engineering </h3>"
   ]
  },
  {
   "cell_type": "code",
   "execution_count": 12,
   "id": "6ccca422",
   "metadata": {},
   "outputs": [
    {
     "name": "stdout",
     "output_type": "stream",
     "text": [
      "Prompt constructed.\n"
     ]
    }
   ],
   "source": [
    "prompt = f\"\"\"\n",
    "## SYSTEM ROLE\n",
    "You are a highly knowledgeable and creative chatbot designed to assist with financial advice based on the principles outlined in a selection of financial books. Your responses must be rooted exclusively in the provided content, focusing on explaining, comparing, and contextualizing key concepts from the books **The Richest Man in Babylon**, **The Intelligent Investor**, and **Secrets of the Millionaire Mind**.\n",
    "\n",
    "## USER QUESTION\n",
    "The user has asked:  \n",
    "**\"{user_question}\"**\n",
    "\n",
    "## CONTEXT\n",
    "Here is the relevant content from the provided books:  \n",
    "'''\n",
    "{formatted_context}\n",
    "'''\n",
    "\n",
    "## GUIDELINES\n",
    "1. **Accuracy**:  \n",
    "   - Use only the information provided in the `CONTEXT` section to answer the question.  \n",
    "   - If the context does not contain relevant information, clearly state: \"The provided context does not contain this information.\"  \n",
    "   - If more than one book is relevant, draw on all of them to give a comprehensive and nuanced answer. \n",
    "   - Begin by explaining the significance of the user's question and what it implies in the context of the books.  \n",
    "   - Use analogies where needed to make complex ideas more digestible.\n",
    "\n",
    "2. **Formatting**:  \n",
    "   - Keep the response concise.  \n",
    "   - If the answer is too long, split it into shorter sentences and continue on the next line.  \n",
    "   - Ensure the user's question appears in **bold** to differentiate it from the answer.\n",
    "   - If content from multiple books is relevant, combine the information in a coherent, integrated way. \n",
    "\n",
    "3. **Transparency**:  \n",
    "   - Reference the book title whenever possible to provide credibility to the response.  \n",
    "   - Clearly reference the page(s) or chapters that correspond to the provided content.\n",
    "\n",
    "4. **Clarity**:  \n",
    "   - Use concise, professional, and user-friendly language.  \n",
    "   - Format the response in **Markdown** for enhanced readability.\n",
    "\n",
    "## TASK\n",
    "1. Provide a direct and comprehensive answer to the user's question, synthesizing information from all three books if they complement each other.\n",
    "2. Use an analogy to simplify complex concepts and make the response more relatable.  \n",
    "3. Deliver the response in the following format:\n",
    "\n",
    "## RESPONSE FORMAT\n",
    "'''\n",
    "# [Title Reflecting the Answer]\n",
    "**User Question:**  \n",
    "**[The user's question.]**\n",
    "\n",
    "**Answer:**  \n",
    "[Provide a clear and concise answer to the question, integrating insights from **The Richest Man in Babylon**, **The Intelligent Investor**, and **Secrets of the Millionaire Mind**. If the context from one book is not enough, refer to the other books to provide a more rounded response.]\n",
    "\n",
    "**Analogy:**  \n",
    "[Provide a simple and engaging analogy to support the explanation.]\n",
    "\n",
    "**Source:**  \n",
    "• *The Richest Man in Babylon*, Page(s): [Insert relevant page range]  \n",
    "• *The Intelligent Investor*, Page(s): [Insert relevant page range]  \n",
    "• *Secrets of the Millionaire Mind*, Page(s): [Insert relevant page range]\n",
    "'''\n",
    "\"\"\"\n",
    "print(\"Prompt constructed.\")\n"
   ]
  },
  {
   "cell_type": "markdown",
   "id": "8c998653",
   "metadata": {},
   "source": [
    "<h3 style=\"color: #000000; font-weight: bold;\"> Maintenance & Improvements </h3>"
   ]
  },
  {
   "cell_type": "code",
   "execution_count": 13,
   "id": "d6781e18-d750-4d02-8db6-3ce104b17053",
   "metadata": {},
   "outputs": [],
   "source": [
    "# Set up GPT client and parameters\n",
    "client = openai.OpenAI()\n",
    "model_params = {\n",
    "    'model': 'gpt-4o',\n",
    "    'temperature': 0.7,  # Increase creativity\n",
    "    'max_tokens': 4000,  # Allow for longer responses\n",
    "    'top_p': 0.9,        # Use nucleus sampling\n",
    "    'frequency_penalty': 0.5,  # Reduce repetition\n",
    "    'presence_penalty': 0.6    # Encourage new topics\n",
    "}"
   ]
  },
  {
   "cell_type": "code",
   "execution_count": 14,
   "id": "7f6e2717-cae7-47f9-9ecc-d6499ccf8249",
   "metadata": {},
   "outputs": [],
   "source": [
    "messages = [{'role': 'user', 'content': prompt}]\n",
    "completion = client.chat.completions.create(messages=messages, **model_params, timeout=120)"
   ]
  },
  {
   "cell_type": "code",
   "execution_count": 15,
   "id": "44a5a9ff-0b0c-4d27-a2e7-939955edfa18",
   "metadata": {},
   "outputs": [
    {
     "name": "stdout",
     "output_type": "stream",
     "text": [
      "'''\n",
      "# Iniciando no Mundo dos Investimentos\n",
      "\n",
      "**User Question:**  \n",
      "**\"O que devo fazer se eu quero começar investir?\"**\n",
      "\n",
      "**Answer:**  \n",
      "Para começar a investir, é essencial seguir algumas diretrizes fundamentais. Primeiramente, de acordo com *The Intelligent Investor*, é importante diversificar seus investimentos. Benjamin Graham recomenda possuir entre dez a trinta ações diferentes para evitar exposição excessiva a um único setor (Páginas 6-7). Além disso, você pode considerar o uso de corretoras online especializadas como Sharebuilder e FolioFN, que permitem compras automáticas e não exigem saldos mínimos elevados (Páginas 5-6).\n",
      "\n",
      "É igualmente importante manter-se disciplinado e evitar a tentação de especular ou negociar excessivamente. A internet facilita as atualizações instantâneas do mercado, mas o investidor defensivo deve focar em uma estratégia de longo prazo e estável (Páginas 6-7). \n",
      "\n",
      "Por fim, caso prefira orientação profissional, considere usar uma corretora com serviços completos ou consultores financeiros para ajudar na seleção das ações (Página 6).\n",
      "\n",
      "**Analogy:**  \n",
      "Investir pode ser comparado a cultivar um jardim. Você começa plantando diversas sementes (ações diversificadas) em diferentes áreas do seu quintal (setores), garantindo que mesmo se uma área não prosperar por completo, outras ainda podem florescer. É necessário regar e cuidar regularmente do jardim (manter registros detalhados), mas sem mexer demais nas plantas diariamente.\n",
      "\n",
      "**Source:**  \n",
      "• *The Intelligent Investor*, Page(s): 5-7\n",
      "'''\n"
     ]
    }
   ],
   "source": [
    "answer = completion.choices[0].message.content\n",
    "print(answer)"
   ]
  }
 ],
 "metadata": {
  "kernelspec": {
   "display_name": "Python 3",
   "language": "python",
   "name": "python3"
  },
  "language_info": {
   "codemirror_mode": {
    "name": "ipython",
    "version": 3
   },
   "file_extension": ".py",
   "mimetype": "text/x-python",
   "name": "python",
   "nbconvert_exporter": "python",
   "pygments_lexer": "ipython3",
   "version": "3.10.16"
  }
 },
 "nbformat": 4,
 "nbformat_minor": 5
}
